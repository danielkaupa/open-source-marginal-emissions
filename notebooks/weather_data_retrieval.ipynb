{
 "cells": [
  {
   "cell_type": "markdown",
   "id": "e95fb32f",
   "metadata": {},
   "source": [
    "# open-source-marginal-emissions"
   ]
  },
  {
   "cell_type": "markdown",
   "id": "e674762d",
   "metadata": {},
   "source": [
    "## weather_data_retrieval"
   ]
  },
  {
   "cell_type": "markdown",
   "id": "72f1e084",
   "metadata": {},
   "source": [
    "The purpose of this notebook is to provide an interactive way to retrieve data from either:\n",
    "* CDS API (Copernicus Data Store) for ERA5 data\n",
    "* Open-Meteo API"
   ]
  },
  {
   "cell_type": "markdown",
   "id": "66aeb513",
   "metadata": {},
   "source": [
    "## Code"
   ]
  },
  {
   "cell_type": "markdown",
   "id": "9fae1fc9",
   "metadata": {},
   "source": [
    "Actuaally I will give you CDS_ERA5, then file_management, then session management, then prompts, then validation, then cli, then orchestrator, then main, then logging.\n",
    "\n",
    "\n",
    "I actuall don't have config loader built yet"
   ]
  },
  {
   "cell_type": "markdown",
   "id": "c8ba805c",
   "metadata": {},
   "source": [
    "### Libraries"
   ]
  },
  {
   "cell_type": "code",
   "execution_count": 163,
   "id": "f4753141",
   "metadata": {},
   "outputs": [],
   "source": [
    "from __future__ import annotations\n",
    "\n",
    "import argparse\n",
    "import re\n",
    "import os\n",
    "import sys\n",
    "import time\n",
    "import json\n",
    "import math\n",
    "import hashlib\n",
    "import getpass\n",
    "import calendar\n",
    "import requests\n",
    "from dataclasses import dataclass\n",
    "from datetime import datetime, timedelta\n",
    "from pathlib import Path\n",
    "from typing import List, Tuple, Optional, Iterable\n",
    "\n",
    "import cdsapi\n",
    "from tqdm import tqdm\n",
    "\n",
    "# Optional MPI\n",
    "try:\n",
    "    from mpi4py import MPI  # type: ignore\n",
    "    MPI_AVAILABLE = True\n",
    "except Exception:\n",
    "    MPI_AVAILABLE = False\n",
    "\n",
    "from concurrent.futures import ThreadPoolExecutor, as_completed"
   ]
  },
  {
   "cell_type": "markdown",
   "id": "75c6378e",
   "metadata": {},
   "source": [
    "### Paths"
   ]
  },
  {
   "cell_type": "code",
   "execution_count": 164,
   "id": "f737f164",
   "metadata": {},
   "outputs": [],
   "source": [
    "root_dir = os.path.abspath(os.path.join(os.getcwd(), \"..\"))\n",
    "data_dir = os.path.join(root_dir, \"data\")\n",
    "raw_data_dir = os.path.join(data_dir, \"raw\")\n",
    "input_dir = os.path.join(root_dir, \"input\")"
   ]
  },
  {
   "cell_type": "markdown",
   "id": "38e055f8",
   "metadata": {},
   "source": [
    "### Inputs"
   ]
  },
  {
   "cell_type": "code",
   "execution_count": 165,
   "id": "2f5640e8",
   "metadata": {},
   "outputs": [],
   "source": [
    "default_save_dir = raw_data_dir\n",
    "default_input_dir = input_dir"
   ]
  },
  {
   "cell_type": "markdown",
   "id": "2afafb2d",
   "metadata": {},
   "source": [
    "### Main Code"
   ]
  },
  {
   "cell_type": "markdown",
   "id": "51ec08aa",
   "metadata": {},
   "source": [
    "#### Backend Execution Functions"
   ]
  },
  {
   "cell_type": "markdown",
   "id": "dd14502c",
   "metadata": {},
   "source": [
    "##### Downloading"
   ]
  },
  {
   "cell_type": "markdown",
   "id": "5c93799b",
   "metadata": {},
   "source": [
    "##### Other Helpers"
   ]
  },
  {
   "cell_type": "code",
   "execution_count": 219,
   "id": "9a6b827a",
   "metadata": {},
   "outputs": [
    {
     "name": "stdout",
     "output_type": "stream",
     "text": [
      "📄 .DS_Store (file)\n",
      "📁 io/ (directory)\n",
      "📁 utils/ (directory)\n",
      "📄 orchestrator.py (file)\n",
      "📁 sources/ (directory)\n",
      "📄 structure.txt (file)\n",
      "📄 main.py (file)\n"
     ]
    }
   ],
   "source": [
    "import os\n",
    "\n",
    "def print_detailed_directory_contents(path='.'):\n",
    "    \"\"\"Print detailed directory contents with file types.\"\"\"\n",
    "    for item in os.listdir(path):\n",
    "        item_path = os.path.join(path, item)\n",
    "        if os.path.isfile(item_path):\n",
    "            print(f\"📄 {item} (file)\")\n",
    "        elif os.path.isdir(item_path):\n",
    "            print(f\"📁 {item}/ (directory)\")\n",
    "        else:\n",
    "            print(f\"❓ {item} (other)\")\n",
    "\n",
    "# Usage\n",
    "print_detailed_directory_contents(\"../weather_data_retrieval\")"
   ]
  },
  {
   "cell_type": "code",
   "execution_count": 220,
   "id": "fa8ce802",
   "metadata": {},
   "outputs": [
    {
     "name": "stdout",
     "output_type": "stream",
     "text": [
      ".DS_Store\n",
      "weather_data_retrieval.ipynb\n",
      ".DS_Store\n",
      "io\n",
      "utils\n",
      "orchestrator.py\n",
      "sources\n",
      "structure.txt\n",
      "main.py\n"
     ]
    }
   ],
   "source": [
    "def print_directory_contents(path='.'):\n",
    "    \"\"\"Print all files and directories in the given path.\"\"\"\n",
    "    for item in os.listdir(path):\n",
    "        print(item)\n",
    "\n",
    "# Usage\n",
    "print_directory_contents()  # Current directory\n",
    "print_directory_contents('../weather_data_retrieval')"
   ]
  },
  {
   "cell_type": "code",
   "execution_count": 227,
   "id": "09bf8da8",
   "metadata": {},
   "outputs": [
    {
     "name": "stdout",
     "output_type": "stream",
     "text": [
      "📁 weather_data_retrieval/\n",
      "  📄 runner.py\n",
      "  📄 .DS_Store\n",
      "  📁 io/\n",
      "    📄 config_loader.py\n",
      "    📄 __init__.py\n",
      "    📁 __pycache__/\n",
      "      📄 cli.cpython-311.pyc\n",
      "      📄 __init__.cpython-311.pyc\n",
      "    📄 prompts.py\n",
      "    📄 cli.py\n",
      "  📄 __init__.py\n",
      "  📁 utils/\n",
      "    📄 logging.py\n",
      "    📄 session_management.py\n",
      "    📄 __init__.py\n",
      "    📁 __pycache__/\n",
      "      📄 logging.cpython-311.pyc\n",
      "      📄 data_validation.cpython-311.pyc\n",
      "      📄 session_management.cpython-311.pyc\n",
      "      📄 __init__.cpython-311.pyc\n",
      "    📄 data_validation.py\n",
      "    📄 file_management.py\n",
      "  📁 __pycache__/\n",
      "    📄 main.cpython-311.pyc\n",
      "    📄 __init__.cpython-311.pyc\n",
      "  📁 sources/\n",
      "    📄 __init__.py\n",
      "    📄 cds_era5.py\n",
      "    📄 open_meteo.py\n",
      "  📄 main.py\n",
      "  📄 __main__.py\n",
      "📄 .DS_Store\n",
      "📄 touch\n",
      "📁 input/\n",
      "  📄 download_request.json\n",
      "📄 pyproject.toml\n",
      "📁 tests/\n",
      "📄 README.md\n",
      "📄 .gitignore\n",
      "📄 core_concepts_and_definitions copy.md\n",
      "📁 .git/\n",
      "  📄 config\n",
      "  📁 objects/\n",
      "    📁 92/\n",
      "      📄 bb78e95fa33ddb3cf06ebef92676d4ef828630\n",
      "      📄 26f88addadda5ba0214d1bd3beb246f8396048\n",
      "    📁 50/\n",
      "      📄 08ddfcf53c02e82d7eee2e57c38e5672ef89f6\n",
      "    📁 6f/\n",
      "      📄 2b07e4e0e42f233947ca1d6ae2e19a1fce2690\n",
      "    📁 9b/\n",
      "      📄 823121c50a6073cb97677c94b5f193a00020c5\n",
      "    📁 9e/\n",
      "      📄 5d14daca609a2dda7918543824f78c9b103fab\n",
      "    📁 69/\n",
      "      📄 0835cd2c680e4f90bd3024b266d7266f504f33\n",
      "    📁 3c/\n",
      "      📄 8944bbbe8963bee89a8a7ff71647669bfa86ca\n",
      "    📁 0b/\n",
      "      📄 156cdbf611610706bbf9c73443dcc9ce162367\n",
      "    📁 0e/\n",
      "      📄 c7584bfbde2e89068d503f25b3902fa626fc28\n",
      "    📁 d9/\n",
      "      📄 f2ab733e877d22556a5f88038abad01412fca3\n",
      "    📁 ac/\n",
      "      📄 d2fa3918724c91fa91f222fbed4fa4d12733c6\n",
      "    📁 bb/\n",
      "      📄 cc49d1af4c5efdd01edb765c5801a71a8b3f53\n",
      "    📁 bd/\n",
      "      📄 b5b8ee43af2b4d70a7ad0b9b8bafcfe1e8aa9e\n",
      "    📁 d6/\n",
      "      📄 5875f9c711221fbd811a1b3fef3b27659d3117\n",
      "    📁 bc/\n",
      "      📄 14d959eae943345f981d57a253a40659df6761\n",
      "    📁 d8/\n",
      "      📄 add9516a14d0530263f1fbc6cba81e7d1683e4\n",
      "    📁 e5/\n",
      "      📄 3e03d8a14ac7d9bb8d978000e4fe5182730b09\n",
      "    📁 cf/\n",
      "      📄 614805d605acc6ea4bf732eea5a90eda31a396\n",
      "    📁 fb/\n",
      "      📄 e4c2c3d7e1087ee1aabc1117b54f4572ee36a1\n",
      "    📁 pack/\n",
      "      📄 pack-95a28c0a6e57fdca5f64f9af32c17c8b9abc8c72.idx\n",
      "      📄 pack-98b21bf56b9b1c04fe13c7901cc7f20171aa017f.idx\n",
      "      📄 pack-98b21bf56b9b1c04fe13c7901cc7f20171aa017f.pack\n",
      "      📄 pack-95a28c0a6e57fdca5f64f9af32c17c8b9abc8c72.pack\n",
      "      📄 pack-95a28c0a6e57fdca5f64f9af32c17c8b9abc8c72.rev\n",
      "    📁 1f/\n",
      "      📄 daa2a260b742557b8d1328f6bbce23861d4694\n",
      "    📁 74/\n",
      "      📄 b9757c67550108edc5992c0738647bd1b2d452\n",
      "    📁 1a/\n",
      "      📄 ccd9a7b14b4ca4eac883a2fa9cd11d2f663572\n",
      "    📁 7b/\n",
      "      📄 e50e57151d178ebc5d6683f7a6021bd0f4e2a5\n",
      "    📁 10/\n",
      "      📄 bc111e93ee5f7fec8ee7fa966d600e9bded6ac\n",
      "    📁 5c/\n",
      "      📄 ea62c711f59cf732b4014bc8ba613e4538cb46\n",
      "    📁 info/\n",
      "    📁 3a/\n",
      "      📄 334f3a92234bed05b5180176643b8b82290f6b\n",
      "    📁 0f/\n",
      "      📄 07c12e0e93a38a3144da444f22e34be5c08e98\n",
      "    📁 0a/\n",
      "      📄 95c98d2d942e80d86df10efaefe5e4f0515924\n",
      "    📁 a7/\n",
      "      📄 e2a21a18ce6b882927cd53b04d8df832259d38\n",
      "    📁 a9/\n",
      "      📄 714eb9175e995e4257a8d7e5dcb9c307d021e2\n",
      "    📁 aa/\n",
      "      📄 6e2007262e7a349998957abab0cd87cc232ac4\n",
      "    📁 af/\n",
      "      📄 ee15c947593e059e265acd9aa100818e511ac0\n",
      "    📁 cc/\n",
      "      📄 c68749c005dd67ccd10641edd606beb4cbc197\n",
      "    📁 e6/\n",
      "      📄 9de29bb2d1d6434b8b29ae775ad8c2e48c5391\n",
      "    📁 fa/\n",
      "      📄 0809efed3398c5c21ec0a78e780534ef7bcd0a\n",
      "    📁 ce/\n",
      "      📄 bbf963c6c8e8cc059ced8977625737622c25fc\n",
      "      📄 a8c171ac11ab5952f901dab379075c6ea477f9\n",
      "    📁 e0/\n",
      "      📄 4f9dd12e3da554319f7cf3b861780f5ef3ffa8\n",
      "    📁 41/\n",
      "      📄 cb144300ed187cd5e3a6b4db23fefa7c13ffbe\n",
      "    📁 48/\n",
      "      📄 9fd0e32f36bf85aecb363e6403a88695477c26\n",
      "    📁 70/\n",
      "      📄 8e3d5a8a80b3241622983fdcb89449ec84067c\n",
      "    📁 49/\n",
      "      📄 0f878689d2297afeb735b7c0c99b172e282281\n",
      "    📁 8b/\n",
      "      📄 712582485f54916c419da6e939a689a6302a07\n",
      "    📁 7f/\n",
      "      📄 1c495b768533d65f8506ad2e6e7eac7f1f4197\n",
      "    📁 14/\n",
      "      📄 ad3d3ce895f852865e2c05dac9f6d90d5c7b40\n",
      "  📄 HEAD\n",
      "  📁 info/\n",
      "    📄 exclude\n",
      "  📁 logs/\n",
      "    📄 HEAD\n",
      "    📁 refs/\n",
      "      📁 heads/\n",
      "        📄 main\n",
      "      📁 remotes/\n",
      "        📁 origin/\n",
      "          📄 HEAD\n",
      "          📄 main\n",
      "  📄 description\n",
      "  📁 hooks/\n",
      "    📄 commit-msg.sample\n",
      "    📄 pre-rebase.sample\n",
      "    📄 sendemail-validate.sample\n",
      "    📄 pre-commit.sample\n",
      "    📄 applypatch-msg.sample\n",
      "    📄 fsmonitor-watchman.sample\n",
      "    📄 pre-receive.sample\n",
      "    📄 prepare-commit-msg.sample\n",
      "    📄 post-update.sample\n",
      "    📄 pre-merge-commit.sample\n",
      "    📄 pre-applypatch.sample\n",
      "    📄 pre-push.sample\n",
      "    📄 update.sample\n",
      "    📄 push-to-checkout.sample\n",
      "  📁 refs/\n",
      "    📁 heads/\n",
      "      📄 main\n",
      "    📁 tags/\n",
      "    📁 remotes/\n",
      "      📁 origin/\n",
      "        📄 HEAD\n",
      "        📄 main\n",
      "  📄 index\n",
      "  📄 packed-refs\n",
      "  📄 COMMIT_EDITMSG\n",
      "  📄 FETCH_HEAD\n",
      "📄 LICENSE.txt\n",
      "📁 weather_data_retrieval.egg-info/\n",
      "  📄 PKG-INFO\n",
      "  📄 SOURCES.txt\n",
      "  📄 entry_points.txt\n",
      "  📄 requires.txt\n",
      "  📄 top_level.txt\n",
      "  📄 dependency_links.txt\n",
      "📁 data/\n",
      "  📄 .DS_Store\n",
      "  📁 cache/\n",
      "  📁 exports/\n",
      "  📁 interim/\n",
      "  📁 processed/\n",
      "  📁 raw/\n",
      "    📄 era5-world_bd5642e59698_2025_02.grib\n",
      "    📄 era5_world_N38W68S6E98_f6c9e6dda20a_2018_01.grib\n",
      "    📄 .DS_Store\n",
      "    📄 era5-world_bd5642e59698_2025_03.grib\n",
      "    📄 era5-world_N25W80S22E82_bd5642e59698_2025_01.grib\n",
      "    📄 era5-world_N25W80S22E82_bd5642e59698_2025_03.grib\n",
      "    📄 era5-world_N25W80S22E82_bd5642e59698_2025_02.grib\n",
      "    📄 era5-world_bd5642e59698_2025_01.grib\n",
      "📁 notebooks/\n",
      "  📄 .DS_Store\n",
      "  📄 weather_data_retrieval.ipynb\n"
     ]
    }
   ],
   "source": [
    "import os\n",
    "\n",
    "def print_directory_tree(path='.', indent=0):\n",
    "    \"\"\"Print directory tree structure recursively.\"\"\"\n",
    "    for item in os.listdir(path):\n",
    "        item_path = os.path.join(path, item)\n",
    "        if os.path.isdir(item_path):\n",
    "            print(\"  \" * indent + f\"📁 {item}/\")\n",
    "            print_directory_tree(item_path, indent + 1)\n",
    "        else:\n",
    "            print(\"  \" * indent + f\"📄 {item}\")\n",
    "\n",
    "print_directory_tree(path='..')"
   ]
  },
  {
   "cell_type": "markdown",
   "id": "4cbd66d2",
   "metadata": {},
   "source": [
    "#### Program Utilities"
   ]
  },
  {
   "cell_type": "markdown",
   "id": "34fdee5c",
   "metadata": {},
   "source": [
    "##### Core I/O"
   ]
  },
  {
   "cell_type": "markdown",
   "id": "e6fdde04",
   "metadata": {},
   "source": [
    "##### Connections (API & Internet)"
   ]
  },
  {
   "cell_type": "markdown",
   "id": "d72351a5",
   "metadata": {},
   "source": [
    "##### File Sizes and Download Times"
   ]
  },
  {
   "cell_type": "markdown",
   "id": "257a0b06",
   "metadata": {},
   "source": [
    "##### Printing and Logging"
   ]
  },
  {
   "cell_type": "markdown",
   "id": "b1255d48",
   "metadata": {},
   "source": [
    "#### User Facing Functions"
   ]
  },
  {
   "cell_type": "markdown",
   "id": "16e5078e",
   "metadata": {},
   "source": [
    "Interactive, prompts, and other functions that the user will directly interact with."
   ]
  },
  {
   "cell_type": "markdown",
   "id": "ba2159a4",
   "metadata": {},
   "source": [
    "##### Main Runners and Orchestrators"
   ]
  },
  {
   "cell_type": "markdown",
   "id": "831fe62f",
   "metadata": {},
   "source": [
    "##### Prompting Functions"
   ]
  },
  {
   "cell_type": "markdown",
   "id": "46af5252",
   "metadata": {},
   "source": [
    "##### Backend - Execution"
   ]
  },
  {
   "cell_type": "markdown",
   "id": "31ba63ba",
   "metadata": {},
   "source": [
    "#### Downloading"
   ]
  },
  {
   "cell_type": "markdown",
   "id": "3ae9df9e",
   "metadata": {},
   "source": [
    "##### Utilities: Warnings, Systems Checks, Information"
   ]
  },
  {
   "cell_type": "markdown",
   "id": "0eb23371",
   "metadata": {},
   "source": [
    "##### Main Function"
   ]
  },
  {
   "cell_type": "code",
   "execution_count": 216,
   "id": "5c6dbcef",
   "metadata": {},
   "outputs": [],
   "source": [
    "def main():\n",
    "    \"\"\"\n",
    "    Orchestrates full data retrieval process.\n",
    "    \"\"\"\n",
    "    print(\"=\" * 60)\n",
    "    print(\"Welcome to the Weather Data Retrieval Tool\")\n",
    "    print(\"=\" * 60)\n",
    "    print(\"\\nThis tool will guide you through downloading weather data from\\n - The Copernicus Climate Data Store (CDS) using the CDS API\\n - The Open-Meteo API (not yet implemented)\")\n",
    "    print(\"\\nYou will be prompted to provide information such as:\\n - API credentials and connection details, which dataset to access,\\n   desired variables, time range, and geographic area.\")\n",
    "    print(\"\\nThe tool will assist you in estimating download sizes and times based on your selections,\\n handling parallel downloads, and managing existing files.\\n\")\n",
    "    print(\"\\nFor more details on the CDS or Open-Meteo datasets and APIs, please visit their websites:\\n - https://cds.climate.copernicus.eu/ \\n - https://open-meteo.com/\")\n",
    "    print(\"\\nYou may type 'exit' at any time to quit.\\n\" + \"-\"*60 + \"\\n\")\n",
    "\n",
    "    session = SessionState()\n",
    "\n",
    "    # --- Prompt wizard (all interactive steps) ---\n",
    "    completed = run_prompt_wizard(session)\n",
    "    if not completed:\n",
    "        print(\"Exiting.\")\n",
    "        return\n",
    "\n",
    "    # === Estimation & Confirmation ===\n",
    "    print(\"\\nRunning speed test (quick heuristic)...\")\n",
    "    speed_mbps = internet_speedtest(test_urls=None, max_seconds=10)\n",
    "\n",
    "    estimates = estimate_cds_download(\n",
    "        variables=session.get(\"variables\"),\n",
    "        area=session.get(\"region_bounds\"),\n",
    "        start_date=session.get(\"start_date\"),\n",
    "        end_date=session.get(\"end_date\"),\n",
    "        observed_speed_mbps=speed_mbps\n",
    "    )\n",
    "    parallel_conf = session.get(\"parallel_settings\")\n",
    "    if parallel_conf[\"enabled\"]:\n",
    "        efficiency_factor = 0.75  # less than ideal scaling\n",
    "        est_parallel_time = estimates[\"total_time_min\"] / (parallel_conf[\"max_concurrent\"] * efficiency_factor)\n",
    "        estimates[\"total_time_min\"] = est_parallel_time\n",
    "\n",
    "    summary = build_download_summary(session, estimates, speed_mbps)\n",
    "    cont = prompt_continue_confirmation(summary)\n",
    "    if cont in (\"__EXIT__\", \"__BACK__\"):\n",
    "        if cont == \"__BACK__\":\n",
    "            # allow re-tuning parallel settings then resume\n",
    "            session.unset(\"parallel_settings\")\n",
    "            return main()\n",
    "        return\n",
    "    if not cont:\n",
    "        print(\"Download cancelled. Exiting.\")\n",
    "        return\n",
    "\n",
    "    # === Begin downloads ===\n",
    "    print(\"\\nStarting ERA5 data retrieval...\\n\")\n",
    "    start = datetime.strptime(session.get(\"start_date\"), \"%Y-%m-%d\")\n",
    "    end = datetime.strptime(session.get(\"end_date\"), \"%Y-%m-%d\")\n",
    "\n",
    "    successful_downloads, failed_downloads, skipped_downloads = [], [], []\n",
    "    coord_str = format_coordinates_nwse(session.get('region_bounds'))\n",
    "    hash_str = generate_filename_hash(\n",
    "        session.get('dataset_short_name'),\n",
    "        session.get('variables'),\n",
    "        session.get('region_bounds')\n",
    "    )\n",
    "    filename_base = f\"{session.get('dataset_short_name')}_{coord_str}_{hash_str}\"\n",
    "\n",
    "    orchestrate_cds_downloads(\n",
    "        session=session,\n",
    "        start=start,\n",
    "        end=end,\n",
    "        filename_base=filename_base,\n",
    "        successful_downloads=successful_downloads,\n",
    "        failed_downloads=failed_downloads,\n",
    "        skipped_downloads=skipped_downloads,\n",
    "    )\n",
    "    print(\"\\nAll downloads processed successfully (see lists above).\")\n",
    "    print(f\"   Successful downloads   : {len(successful_downloads)}\")\n",
    "    print(f\"   Skipped downloads      : {len(skipped_downloads)}\")\n",
    "    print(f\"   Failed downloads       : {len(failed_downloads)}\")\n"
   ]
  },
  {
   "cell_type": "markdown",
   "id": "21a418f8",
   "metadata": {},
   "source": [
    "### Running Code"
   ]
  },
  {
   "cell_type": "code",
   "execution_count": 217,
   "id": "e97cef2c",
   "metadata": {},
   "outputs": [
    {
     "name": "stderr",
     "output_type": "stream",
     "text": [
      "usage: ipykernel_launcher.py [-h] [--log-file LOG_FILE] [requirements]\n",
      "ipykernel_launcher.py: error: unrecognized arguments: --f=/Users/Daniel/Library/Jupyter/runtime/kernel-v3e72097a7c1bb7c2606fa9d415762bacb619347db.json\n"
     ]
    },
    {
     "ename": "SystemExit",
     "evalue": "2",
     "output_type": "error",
     "traceback": [
      "An exception has occurred, use %tb to see the full traceback.\n",
      "\u001b[31mSystemExit\u001b[39m\u001b[31m:\u001b[39m 2\n"
     ]
    },
    {
     "name": "stderr",
     "output_type": "stream",
     "text": [
      "/opt/homebrew/Caskroom/miniconda/base/envs/weather_pipeline/lib/python3.11/site-packages/IPython/core/interactiveshell.py:3707: UserWarning: To exit: use 'exit', 'quit', or Ctrl-D.\n",
      "  warn(\"To exit: use 'exit', 'quit', or Ctrl-D.\", stacklevel=1)\n"
     ]
    }
   ],
   "source": [
    "if __name__ == \"__main__\":\n",
    "    try:\n",
    "        args = parse_args().parse_args()\n",
    "        if args.requirements:\n",
    "            # Batch mode\n",
    "            sys.exit(\n",
    "                run_batch_from_config(\n",
    "                    args.requirements,\n",
    "                    assumed_mbps=args.assumed_mbps,\n",
    "                    log_file=args.log_file,\n",
    "                    quiet=args.quiet,\n",
    "                )\n",
    "            )\n",
    "        else:\n",
    "            # Interactive mode\n",
    "            print(\"=\" * 60)\n",
    "            print(\"Welcome to the Weather Data Retrieval Tool\")\n",
    "            print(\"=\" * 60)\n",
    "            print(\"\\nThis tool supports:\")\n",
    "            print(\" - Interactive wizard (no args)\")\n",
    "            print(\" - Non-interactive batch (pass requirements JSON file)\\n\")\n",
    "            sys.exit(run_interactive(no_speedtest=args.no_speedtest, assumed_mbps=args.assumed_mbps))\n",
    "\n",
    "    except KeyboardInterrupt:\n",
    "        print(\"\\nUser interrupted. Exiting.\")\n",
    "        sys.exit(130)\n"
   ]
  },
  {
   "cell_type": "code",
   "execution_count": null,
   "id": "f4c5a2a2",
   "metadata": {},
   "outputs": [],
   "source": [
    "def prompt_config_source(session: SessionState) -> str:\n",
    "    \"\"\"\n",
    "    Ask user if they want to load config from file or enter manually.\n",
    "\n",
    "    Parameters\n",
    "    ----------\n",
    "    session : SessionState\n",
    "        Current session state.\n",
    "\n",
    "    \"\"\"\n",
    "    print(\"\\nConfiguration Source Options:\\n\" + '-'*30)\n",
    "    print(\"  1. Load configuration from file (download_request.json)\")\n",
    "    print(\"  2. Enter configuration manually\")\n",
    "    while True:\n",
    "        raw = read_input(\"Configuration Source : Enter 1 to load from file or 2 to manually enter : \").strip().lower()\n",
    "        if raw in (\"__EXIT__\", \"__BACK__\"):\n",
    "            return raw\n",
    "        if raw in (\"1\", \"2\"):\n",
    "            print(f\"You selected option {raw}.\")\n",
    "            session.set(\"config_source\", raw)\n",
    "            return raw\n",
    "\n",
    "        print(\"Invalid choice. Please enter 1 or 2.\")\n"
   ]
  },
  {
   "cell_type": "code",
   "execution_count": null,
   "id": "5ad0e17f",
   "metadata": {},
   "outputs": [
    {
     "name": "stdout",
     "output_type": "stream",
     "text": [
      "============================================================\n",
      "Welcome to the Weather Data Retrieval Tool\n",
      "============================================================\n",
      "\n",
      "This tool will guide you through downloading weather data from\n",
      " - The Copernicus Climate Data Store (CDS) using the CDS API\n",
      " - The Open-Meteo API (not yet implemented)\n",
      "\n",
      "You will be prompted to provide information such as:\n",
      " - API credentials and connection details, which dataset to access,\n",
      "   desired variables, time range, and geographic area.\n",
      "\n",
      "The tool will assist you in estimating download sizes and times based on your selections,\n",
      " handling parallel downloads, and managing existing files.\n",
      "\n",
      "\n",
      "For more details on the CDS or Open-Meteo datasets and APIs, please visit their websites:\n",
      " - https://cds.climate.copernicus.eu/ \n",
      " - https://open-meteo.com/\n",
      "\n",
      "You may type 'exit' at any time to quit.\n",
      "------------------------------------------------------------\n",
      "\n",
      "\n",
      "Available Data providers:\n",
      "\t1. Copernicus Climate Data Store (CDS)\n",
      "\t2. Open-Meteo\n",
      "You selected: CDS\n",
      "\n",
      "Available datasets:\n",
      "------------------------------\n",
      "\t1. ERA5-Land\n",
      "\t2. ERA5-World\n",
      "You selected: ERA5-WORLD\n",
      "\n",
      "CDS API URL:\n",
      "------------------------------\n",
      "Default: https://cds.climate.copernicus.eu/api\n",
      "CDS API URL set to: https://cds.climate.copernicus.eu/api\n",
      "\n",
      "CDS API Key:\n",
      "(Type 'back' to go to the previous step or 'exit' to quit.)\n",
      "You entered an API key of length 36 characters.\n",
      "Testing CDS API connection with provided credentials...\n",
      "\tAuthentication successful!\n",
      "\n",
      "Choose how to proceed with existing files:\n",
      "\n",
      "\t1. Overwrite all existing files\n",
      "\t2. Skip all existing files\n",
      "\t3. Case-by-case confirmation\n",
      "\n",
      "You selected option 2 - skip_all\n",
      "\n",
      "Configuration Source Options:\n",
      "------------------------------\n",
      "  1. Load configuration from file (download_request.json)\n",
      "  2. Enter configuration manually\n",
      "You selected option 2.\n",
      "\n",
      "Date Range Selection:\n",
      "------------------------------\n",
      "Enter dates as YYYY-MM-DD or YYYY-MM\n",
      "(YYYY-MM will default to first day for start, last day for end)\n",
      "  → Start date set to: 2025-01-01 (first day of month)\n",
      "  → End date set to: 2025-03-31 (last day of month)\n",
      "Selected date range: 2025-01-01 → 2025-03-31\n",
      "\n",
      "Grid Area Selection (ESPG: 4326):\n",
      "------------------------------\n",
      "You selected: N25.0, W80.0, S22.0, E82.0\n",
      "\n",
      "Variable Selection [era5-world]:\n",
      "------------------------------\n",
      "(Type 'back' to return to previous step or 'exit' to quit.)\n",
      "You selected 2 valid variables:\n",
      "2m_temperature, total_precipitation\n",
      "\n",
      "Save Directory:\n",
      "Default: /Users/Daniel/Desktop/open-source-marginal-emissions/data/raw\n",
      "The save directory has been set to: /Users/Daniel/Desktop/open-source-marginal-emissions/data/raw\n",
      "\n",
      "Parallelisation Settings:\n",
      "------------------------------\n",
      "You can enable multiple parallel downloads to speed up retrieval.\n",
      "Note: The CDS API may throttle or reject requests if too many are opened concurrently.\n",
      "\n",
      "Parallel downloads enabled with max 2 concurrent downloads.\n",
      "\n",
      "Retry Settings:\n",
      "------------------------------\n",
      "These settings control how the program handles failed download attempts.\n",
      "\n",
      "Default values → Retries: 6, Delay: 15s\n",
      "Using default retry settings: {'max_retries': 6, 'retry_delay_sec': 15}\n",
      "\n",
      "Running speed test (quick heuristic)...\n",
      "========================================\n",
      "Internet speed test\n",
      "========================================\n",
      "\n",
      "\n",
      "Testing https://speedtest.london.linode.com/100MB-london.bin\n",
      "\tMay take up to ~10s...\n",
      "\tRESULT: SUCCESS — 530.8 Mbps (based on 50.3 MB in 0.8s)\n",
      "\n",
      "=== Download Summary ===\n",
      "Provider: CDS\n",
      "Dataset: era5-world\n",
      "Dates: 2025-01-01 → 2025-03-31\n",
      "Area: [25.0, 80.0, 22.0, 82.0]\n",
      "Variables: ['2m_temperature', 'total_precipitation']\n",
      "Save Directory: /Users/Daniel/Desktop/open-source-marginal-emissions/data/raw\n",
      "Retries: {'max_retries': 6, 'retry_delay_sec': 15}\n",
      "Parallelisation: {'enabled': True, 'max_concurrent': 2}\n",
      "----------------------------------------\n",
      "Estimated number of monthly files: 3\n",
      "Estimated size per file: 5.0 MB\n",
      "Estimated total size: 15.0 MB\n",
      "Estimated maximum time per file: 3.4s\n",
      "Estimated maximum total time: 6.8s\n",
      "Measured speed: 530.8 Mbps\n",
      "\n",
      "\n",
      "Proceeding with download...\n",
      "\n",
      "\n",
      "Starting ERA5 data retrieval...\n",
      "\n",
      "\n",
      "=== Existing File Check ===\n",
      "Found 3 existing monthly files.\n",
      "  - 2025-01: /Users/Daniel/Desktop/open-source-marginal-emissions/data/raw/era5-world_N25W80S22E82_bd5642e59698_2025_01.grib\n",
      "  - 2025-02: /Users/Daniel/Desktop/open-source-marginal-emissions/data/raw/era5-world_N25W80S22E82_bd5642e59698_2025_02.grib\n",
      "  - 2025-03: /Users/Daniel/Desktop/open-source-marginal-emissions/data/raw/era5-world_N25W80S22E82_bd5642e59698_2025_03.grib\n",
      "Planned downloads: 0 month(s).\n",
      "\n",
      "Nothing to download (all months skipped).\n",
      "\n",
      "All downloads processed successfully (see lists above).\n",
      "   Successful downloads   : 0\n",
      "   Skipped downloads      : 3\n",
      "   Failed downloads       : 0\n"
     ]
    }
   ],
   "source": [
    "main()"
   ]
  },
  {
   "cell_type": "code",
   "execution_count": null,
   "id": "ea2f76c6",
   "metadata": {},
   "outputs": [
    {
     "name": "stdout",
     "output_type": "stream",
     "text": [
      "\n",
      "📊 Download Summary\n"
     ]
    },
    {
     "ename": "NameError",
     "evalue": "name 'n_files' is not defined",
     "output_type": "error",
     "traceback": [
      "\u001b[31m---------------------------------------------------------------------------\u001b[39m",
      "\u001b[31mNameError\u001b[39m                                 Traceback (most recent call last)",
      "\u001b[36mCell\u001b[39m\u001b[36m \u001b[39m\u001b[32mIn[162]\u001b[39m\u001b[32m, line 3\u001b[39m\n\u001b[32m      1\u001b[39m \u001b[38;5;66;03m#=== SUMMARY ===\u001b[39;00m\n\u001b[32m      2\u001b[39m \u001b[38;5;28mprint\u001b[39m(\u001b[33m\"\u001b[39m\u001b[38;5;130;01m\\n\u001b[39;00m\u001b[33m📊 Download Summary\u001b[39m\u001b[33m\"\u001b[39m)\n\u001b[32m----> \u001b[39m\u001b[32m3\u001b[39m \u001b[38;5;28mprint\u001b[39m(\u001b[33mf\u001b[39m\u001b[33m\"\u001b[39m\u001b[33m   Total months requested : \u001b[39m\u001b[38;5;132;01m{\u001b[39;00m\u001b[43mn_files\u001b[49m\u001b[38;5;132;01m}\u001b[39;00m\u001b[33m\"\u001b[39m)\n\u001b[32m      4\u001b[39m \u001b[38;5;28mprint\u001b[39m(\u001b[33mf\u001b[39m\u001b[33m\"\u001b[39m\u001b[33m   Successful downloads   : \u001b[39m\u001b[38;5;132;01m{\u001b[39;00m\u001b[38;5;28mlen\u001b[39m(successful_downloads)\u001b[38;5;132;01m}\u001b[39;00m\u001b[33m\"\u001b[39m)\n\u001b[32m      5\u001b[39m \u001b[38;5;28mprint\u001b[39m(\u001b[33mf\u001b[39m\u001b[33m\"\u001b[39m\u001b[33m   Skipped downloads      : \u001b[39m\u001b[38;5;132;01m{\u001b[39;00m\u001b[38;5;28mlen\u001b[39m(skipped_downloads)\u001b[38;5;132;01m}\u001b[39;00m\u001b[33m\"\u001b[39m)\n",
      "\u001b[31mNameError\u001b[39m: name 'n_files' is not defined"
     ]
    }
   ],
   "source": [
    "#=== SUMMARY ===\n",
    "print(\"\\n📊 Download Summary\")\n",
    "print(f\"   Total months requested : {n_files}\")\n",
    "print(f\"   Successful downloads   : {len(successful_downloads)}\")\n",
    "print(f\"   Skipped downloads      : {len(skipped_downloads)}\")\n",
    "print(f\"   Failed downloads       : {len(failed_downloads)}\")\n",
    "print(f\"   Total time elapsed     : {format_duration(overall_elapsed)}\")\n",
    "\n",
    "if failed_downloads:\n",
    "    print(\"   Failed months:\", \", \".join([f\"{y}-{m}\" for y, m in failed_downloads]))\n",
    "\n",
    "print(f\"Files Downloaded to {save_dir}:\")\n",
    "for year, month in successful_downloads:\n",
    "    print(f\"   - {filename_base}_{year}-{month}.grib\")"
   ]
  },
  {
   "cell_type": "markdown",
   "id": "5dbcf9f3",
   "metadata": {},
   "source": [
    "What data source would you like to use?\n",
    "* Open-Meteo\n",
    "* CDS API (ERA5 datasets)\n",
    "    * IF USING CDS API:\n",
    "    * What dataset would you like to use?\n",
    "        * ERA5-Land only\n",
    "        * ERA5-World only\n",
    "        * ERA5-Land where available, otherwise ERA5-World\n",
    "        * ERA5-World where available, otherwise ERA5-Land\n",
    "\n",
    "Options:\n",
    "open-meteo\n",
    "era5-land\n",
    "era5-world\n",
    "era5-land-then-era5-world\n",
    "era5-world-then-era5-land\n",
    "\n",
    "Time Period:\n",
    "Over what time period would you like to retrieve data?\n",
    "* Start date (YYYY-MM-DD):\n",
    "* End date (YYYY-MM-DD):\n",
    "\n",
    "How would you like to  specify the goegraphical area over which to retrieve data?\n",
    "* Provide bounding box coordinates\n",
    "* Select bounding box on map\n",
    "* Provide Country Name\n",
    "* Provide City and Country Name \n",
    "\n",
    "Over what geographical area would you like to retrieve data?\n",
    "* North latitude (degrees):\n",
    "* South latitude (degrees):\n",
    "* East longitude (degrees):\n",
    "* West longitude (degrees):\n",
    "\n",
    "* What temporal resolution would you like the data at?\n",
    "    * 2-Hourly (aggregates)\n",
    "    * Hourly (native)\n",
    "    * Half-hourly (interpolated)\n",
    "\n",
    "* What geographic resolution would you like the data at?\n",
    "    * 0.1° x 0.1° (approx. 11km x 11km) (only native for ERA5-Land)\n",
    "    * 0.25° x 0.25° (approx. 28km x 28km)\n",
    "    * 0.5° x 0.5° (approx. 55km x 55km)\n",
    "    * 1.0° x 1.0° (approx. 111km x 111km)"
   ]
  },
  {
   "cell_type": "markdown",
   "id": "38e6ba7f",
   "metadata": {},
   "source": [
    "| NAME | VAR NAME | Units\n",
    "|------|----------|------|\n",
    "| Surface pressure | surface_pressure | Pa\n",
    "| Total cloud cover | total_cloud_cover | 0-1\n",
    "| 10 metre U wind component | 10m_u_component_of_wind | m/s\n",
    "| 10 metre V wind component | 10m_v_component_of_wind | m/s\n",
    "| 2 metre temperature | 2m_temperature | K\n",
    "| Low cloud cover | low_cloud_cover | 0-1\n",
    "| Medium cloud cover | medium_cloud_cover | 0-1\n",
    "| High cloud cover | high_cloud_cover | 0-1\n",
    "| Instantaneous large-scale surface precipitation fraction | instantaneous_large_scale_surface_precipitation_fraction | 0-1\n",
    "| 100 metre U wind component | 100m_u_component_of_wind | m/s\n",
    "| 100 metre V wind component | 100m_v_component_of_wind | m/s\n",
    "| Surface solar radiation downwards | surface_solar_radiation_downwards | J m**-2\n",
    "| Surface thermal radiation downwards | surface_thermal_radiation_downwards | J m**-2\n",
    "| Surface net solar radiation | surface_net_solar_radiation | J m**-2\n",
    "| Top net solar radiation | top_net_solar_radiation | J m**-2\n",
    "| Top net thermal radiation | top_net_thermal_radiation | J m**-2\n",
    "| Top net solar radiation, clear sky | top_net_solar_radiation_clear_sky | J m**-2\n",
    "| Top net thermal radiation, clear sky | top_net_thermal_radiation_clear_sky | J m**-2\n",
    "| Surface net solar radiation, clear sky | surface_net_solar_radiation_clear_sky | J m**-2\n",
    "| Surface net thermal radiation, clear sky | surface_net_thermal_radiation_clear_sky | J m**-2\n",
    "| TOA incident solar radiation | toa_incident_solar_radiation | J m**-2\n",
    "| Total sky direct solar radiation at surface | total_sky_direct_solar_radiation_at_surface | J m**-2\n",
    "| Clear-sky direct solar radiation at surface | clear_sky_direct_solar_radiation_at_surface | J m**-2\n",
    "| Surface solar radiation downward clear-sky  | surface_solar_radiation_downward_clear_sky\t | J m**-2\n",
    "| Surface thermal radiation downward clear-sky | surface_thermal_radiation_downward_clear_sky | J m**-2\n",
    "| Large-scale precipitation | large_scale_precipitation | kg m**-2\n",
    "| Convective precipitation | convective_precipitation | kg m**-2\n",
    "| Total precipitation | total_precipitation | kg m**-2\n",
    "| Total column water | total_column_water | kg m**-2\n",
    "| Fraction of cloud cover | fraction_of_cloud_cover | 0-1"
   ]
  }
 ],
 "metadata": {
  "kernelspec": {
   "display_name": "weather_pipeline",
   "language": "python",
   "name": "python3"
  },
  "language_info": {
   "codemirror_mode": {
    "name": "ipython",
    "version": 3
   },
   "file_extension": ".py",
   "mimetype": "text/x-python",
   "name": "python",
   "nbconvert_exporter": "python",
   "pygments_lexer": "ipython3",
   "version": "3.11.13"
  }
 },
 "nbformat": 4,
 "nbformat_minor": 5
}
